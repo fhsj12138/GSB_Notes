 To move datafiles from WRDS to Yen 
 ssh rjxliu@wrds-cloud.wharton.upenn.edu
 mkdir /scratch/stanford/rebecca
 transfer file from web_query_output to /scratch/stanford/rebecca
  cd /scratch/stanford/rebecca
  ls -lah
 scp hbf857rzzhsjort6.csv rjxliu@yen.stanford.edu:/zfs/projects/faculty/vvig-redistricting 
 or 
 scp *.dta rjxliu@yen.stanford.edu:/zfs/projects/faculty/vvig-redistricting 
